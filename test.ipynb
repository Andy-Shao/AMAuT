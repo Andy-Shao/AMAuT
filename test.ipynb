{
 "cells": [
  {
   "cell_type": "code",
   "execution_count": 1,
   "metadata": {},
   "outputs": [
    {
     "data": {
      "text/plain": [
       "(15531, 1855, 3591)"
      ]
     },
     "execution_count": 1,
     "metadata": {},
     "output_type": "execute_result"
    }
   ],
   "source": [
    "from lib.spDataset import VocalSound\n",
    "root_path = '/root/data/vocalsound_44k'\n",
    "train_set = VocalSound(root_path=root_path, mode='train')\n",
    "val_set = VocalSound(root_path=root_path, mode='validation')\n",
    "test_set = VocalSound(root_path=root_path, mode='test')\n",
    "len(train_set), len(val_set), len(test_set)"
   ]
  },
  {
   "cell_type": "code",
   "execution_count": 2,
   "metadata": {},
   "outputs": [
    {
     "data": {
      "text/plain": [
       "(torch.Size([1, 360448]), 0, 48000)"
      ]
     },
     "execution_count": 2,
     "metadata": {},
     "output_type": "execute_result"
    }
   ],
   "source": [
    "wavform, label, sample_rate = train_set[15]\n",
    "wavform.shape, label, sample_rate"
   ]
  },
  {
   "cell_type": "code",
   "execution_count": null,
   "metadata": {},
   "outputs": [
    {
     "data": {
      "text/plain": [
       "torch.Size([1, 80, 895])"
      ]
     },
     "execution_count": 10,
     "metadata": {},
     "output_type": "execute_result"
    }
   ],
   "source": [
    "from lib.wavUtils import AudioPadding, Components\n",
    "from torchaudio import transforms\n",
    "sample_rate=48000\n",
    "n_mels=80\n",
    "n_fft=2048\n",
    "win_length=800\n",
    "hop_length=590\n",
    "mel_scale='slaney'\n",
    "target_length=896\n",
    "\n",
    "tf_array = Components(transforms=[\n",
    "    AudioPadding(sample_rate=sample_rate, random_shift=False, max_length=sample_rate*11),\n",
    "    transforms.MelSpectrogram(\n",
    "        sample_rate=sample_rate, n_mels=n_mels, n_fft=n_fft, hop_length=hop_length, win_length=win_length,\n",
    "        mel_scale=mel_scale\n",
    "    )\n",
    "])\n",
    "tf_array(wavform).shape"
   ]
  },
  {
   "cell_type": "code",
   "execution_count": 22,
   "metadata": {},
   "outputs": [
    {
     "name": "stdout",
     "output_type": "stream",
     "text": [
      "520192\n"
     ]
    }
   ],
   "source": [
    "from lib.datasets import MergeDataset\n",
    "max_length = 0.\n",
    "merged_set = MergeDataset(\n",
    "    set1=train_set,\n",
    "    set2=MergeDataset(set1=val_set, set2=test_set)\n",
    ")\n",
    "for wavform, label, sample_rate in merged_set:\n",
    "    if wavform.shape[1] > max_length:\n",
    "        max_length = wavform.shape[1]\n",
    "\n",
    "print(max_length)"
   ]
  }
 ],
 "metadata": {
  "kernelspec": {
   "display_name": "my-audio",
   "language": "python",
   "name": "python3"
  },
  "language_info": {
   "codemirror_mode": {
    "name": "ipython",
    "version": 3
   },
   "file_extension": ".py",
   "mimetype": "text/x-python",
   "name": "python",
   "nbconvert_exporter": "python",
   "pygments_lexer": "ipython3",
   "version": "3.9.21"
  }
 },
 "nbformat": 4,
 "nbformat_minor": 2
}
