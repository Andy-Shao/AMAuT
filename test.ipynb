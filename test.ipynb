{
 "cells": [
  {
   "cell_type": "code",
   "execution_count": 6,
   "metadata": {},
   "outputs": [
    {
     "data": {
      "text/plain": [
       "[1, 4, 10]"
      ]
     },
     "execution_count": 6,
     "metadata": {},
     "output_type": "execute_result"
    }
   ],
   "source": [
    "from torch.utils.data import Dataset\n",
    "\n",
    "class MyData(Dataset):\n",
    "    def __init__(self, ls:list):\n",
    "        super(MyData, self).__init__()\n",
    "        self.ls = ls\n",
    "    \n",
    "    def __len__(self):\n",
    "        return len(self.ls)\n",
    "    \n",
    "    def __getitem__(self, index):\n",
    "        return self.ls[index]\n",
    "    \n",
    "myData = MyData([i for i in range(1, 20, 1)])\n",
    "infos = [myData[item] for item in [0, 3, 9]]\n",
    "infos"
   ]
  }
 ],
 "metadata": {
  "kernelspec": {
   "display_name": "my-audio",
   "language": "python",
   "name": "python3"
  },
  "language_info": {
   "codemirror_mode": {
    "name": "ipython",
    "version": 3
   },
   "file_extension": ".py",
   "mimetype": "text/x-python",
   "name": "python",
   "nbconvert_exporter": "python",
   "pygments_lexer": "ipython3",
   "version": "3.9.20"
  }
 },
 "nbformat": 4,
 "nbformat_minor": 2
}
