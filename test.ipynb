{
 "cells": [
  {
   "cell_type": "code",
   "execution_count": 2,
   "metadata": {},
   "outputs": [
    {
     "name": "stderr",
     "output_type": "stream",
     "text": [
      "100%|██████████| 2.26G/2.26G [01:50<00:00, 22.0MB/s] \n"
     ]
    },
    {
     "data": {
      "text/plain": [
       "84843"
      ]
     },
     "execution_count": 2,
     "metadata": {},
     "output_type": "execute_result"
    }
   ],
   "source": [
    "from torchaudio.datasets import SPEECHCOMMANDS\n",
    "train_set = SPEECHCOMMANDS(\n",
    "    root  = '/root/data', url = 'speech_commands_v0.02', folder_in_archive = 'speech_commands_v0.02', download = True, subset='training'\n",
    ")\n",
    "len(train_set)"
   ]
  },
  {
   "cell_type": "code",
   "execution_count": 3,
   "metadata": {},
   "outputs": [
    {
     "data": {
      "text/plain": [
       "(torch.Size([1, 16000]), 16000, 'backward', '0165e0e8', 0)"
      ]
     },
     "execution_count": 3,
     "metadata": {},
     "output_type": "execute_result"
    }
   ],
   "source": [
    "wavform, sample_rate, label, speaker_id, utterance_num = train_set[0]\n",
    "wavform.shape, sample_rate, label, speaker_id, utterance_num"
   ]
  },
  {
   "cell_type": "code",
   "execution_count": 4,
   "metadata": {},
   "outputs": [
    {
     "name": "stdout",
     "output_type": "stream",
     "text": [
      "train set size is:84843, test set size is:11005, val set size is:9981\n"
     ]
    }
   ],
   "source": [
    "def dim_range(dataset) -> tuple[int, int]:\n",
    "    min_dim, max_dim = 16000*20, 0\n",
    "    for wavform, sample_rate, label, speaker_id, utterance_num in dataset:\n",
    "        dim = wavform.shape[1]\n",
    "        if min_dim > dim: \n",
    "            min_dim = dim\n",
    "        if max_dim < dim:\n",
    "            max_dim = dim\n",
    "    return min_dim, max_dim\n",
    "val_set = SPEECHCOMMANDS(\n",
    "    root  = '/root/data', url = 'speech_commands_v0.02', folder_in_archive = 'speech_commands_v0.02', download = True, subset='validation'\n",
    ")\n",
    "test_set = SPEECHCOMMANDS(\n",
    "    root  = '/root/data', url = 'speech_commands_v0.02', folder_in_archive = 'speech_commands_v0.02', download = True, subset='testing'\n",
    ")\n",
    "# print(dim_range(train_set))\n",
    "# print(dim_range(val_set))\n",
    "# print(dim_range(test_set))\n",
    "print(f'train set size is:{len(train_set)}, test set size is:{len(test_set)}, val set size is:{len(val_set)}')"
   ]
  }
 ],
 "metadata": {
  "kernelspec": {
   "display_name": "my-audio",
   "language": "python",
   "name": "python3"
  },
  "language_info": {
   "codemirror_mode": {
    "name": "ipython",
    "version": 3
   },
   "file_extension": ".py",
   "mimetype": "text/x-python",
   "name": "python",
   "nbconvert_exporter": "python",
   "pygments_lexer": "ipython3",
   "version": "3.9.21"
  }
 },
 "nbformat": 4,
 "nbformat_minor": 2
}
