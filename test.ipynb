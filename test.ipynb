{
 "cells": [
  {
   "cell_type": "code",
   "execution_count": 3,
   "metadata": {},
   "outputs": [],
   "source": [
    "from lib.acousticDataset import CochlScene\n",
    "\n",
    "train_set = CochlScene(root_path='/root/data/CochlScene', mode='train')\n",
    "wavform, label = train_set[0]"
   ]
  },
  {
   "cell_type": "code",
   "execution_count": 4,
   "metadata": {},
   "outputs": [
    {
     "data": {
      "text/plain": [
       "torch.Size([1, 80, 862])"
      ]
     },
     "execution_count": 4,
     "metadata": {},
     "output_type": "execute_result"
    }
   ],
   "source": [
    "from lib.wavUtils import Components, AudioPadding, time_shift, AmplitudeToDB\n",
    "from torchaudio import transforms as a_transforms\n",
    "sample_rate=44100\n",
    "n_mels=80\n",
    "n_fft=2048\n",
    "win_length=1024\n",
    "hop_length=512\n",
    "mel_scale='slaney'\n",
    "\n",
    "tf_array = Components(transforms=[\n",
    "    AudioPadding(sample_rate=sample_rate, random_shift=True, max_length=sample_rate*10),\n",
    "    time_shift(shift_limit=.17, is_random=True, is_bidirection=True),\n",
    "    a_transforms.MelSpectrogram(\n",
    "        sample_rate=sample_rate, n_mels=n_mels, n_fft=n_fft, hop_length=hop_length, win_length=win_length,\n",
    "        mel_scale=mel_scale, f_min=20, f_max=sample_rate//2\n",
    "    ),\n",
    "    AmplitudeToDB(top_db=80., max_out=2.),\n",
    "])\n",
    "spectrogram = tf_array(wavform)\n",
    "spectrogram.shape"
   ]
  }
 ],
 "metadata": {
  "kernelspec": {
   "display_name": "my-audio",
   "language": "python",
   "name": "python3"
  },
  "language_info": {
   "codemirror_mode": {
    "name": "ipython",
    "version": 3
   },
   "file_extension": ".py",
   "mimetype": "text/x-python",
   "name": "python",
   "nbconvert_exporter": "python",
   "pygments_lexer": "ipython3",
   "version": "3.9.21"
  }
 },
 "nbformat": 4,
 "nbformat_minor": 2
}
