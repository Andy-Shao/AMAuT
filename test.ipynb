{
 "cells": [
  {
   "cell_type": "code",
   "execution_count": 1,
   "metadata": {},
   "outputs": [
    {
     "data": {
      "text/plain": [
       "(18000, 6000, 6000)"
      ]
     },
     "execution_count": 1,
     "metadata": {},
     "output_type": "execute_result"
    }
   ],
   "source": [
    "from lib.spDataset import AudioMINST\n",
    "train_set = AudioMINST(\n",
    "    data_paths=AudioMINST.default_splits(mode='train', fold=0, root_path='/root/data/AudioMNIST/data'),\n",
    "    include_rate=False\n",
    ")\n",
    "val_set = AudioMINST(\n",
    "    data_paths=AudioMINST.default_splits(mode='validate', fold=0, root_path='/root/data/AudioMNIST/data'),\n",
    "    include_rate=False\n",
    ")\n",
    "test_set = AudioMINST(\n",
    "    data_paths=AudioMINST.default_splits(mode='test', fold=0, root_path='/root/data/AudioMNIST/data'),\n",
    "    include_rate=False\n",
    ")\n",
    "\n",
    "len(train_set), len(val_set), len(test_set)"
   ]
  }
 ],
 "metadata": {
  "kernelspec": {
   "display_name": "my-audio",
   "language": "python",
   "name": "python3"
  },
  "language_info": {
   "codemirror_mode": {
    "name": "ipython",
    "version": 3
   },
   "file_extension": ".py",
   "mimetype": "text/x-python",
   "name": "python",
   "nbconvert_exporter": "python",
   "pygments_lexer": "ipython3",
   "version": "3.9.21"
  }
 },
 "nbformat": 4,
 "nbformat_minor": 2
}
