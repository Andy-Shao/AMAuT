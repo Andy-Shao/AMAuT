{
 "cells": [
  {
   "cell_type": "code",
   "execution_count": 113,
   "metadata": {},
   "outputs": [
    {
     "data": {
      "text/plain": [
       "6835"
      ]
     },
     "execution_count": 113,
     "metadata": {},
     "output_type": "execute_result"
    }
   ],
   "source": [
    "from AuT.lib.dataset import FewShotSpeechCommand\n",
    "BASE_PATH = '/root'\n",
    "\n",
    "dataset = FewShotSpeechCommand(\n",
    "    root_path=BASE_PATH + '/data/speech_commands',\n",
    "    mode='test', include_rate=False, data_tfs=None\n",
    ")\n",
    "len(dataset)"
   ]
  },
  {
   "cell_type": "code",
   "execution_count": 114,
   "metadata": {},
   "outputs": [
    {
     "data": {
      "text/plain": [
       "300"
      ]
     },
     "execution_count": 114,
     "metadata": {},
     "output_type": "execute_result"
    }
   ],
   "source": [
    "dataset = FewShotSpeechCommand(\n",
    "    root_path=BASE_PATH + '/data/speech_commands',\n",
    "    mode='test-fs', include_rate=False, data_tfs=None\n",
    ")\n",
    "len(dataset)"
   ]
  },
  {
   "cell_type": "code",
   "execution_count": 115,
   "metadata": {},
   "outputs": [
    {
     "data": {
      "text/plain": [
       "6535"
      ]
     },
     "execution_count": 115,
     "metadata": {},
     "output_type": "execute_result"
    }
   ],
   "source": [
    "dataset = FewShotSpeechCommand(\n",
    "    root_path=BASE_PATH + '/data/speech_commands',\n",
    "    mode='test-res', include_rate=False, data_tfs=None\n",
    ")\n",
    "len(dataset)"
   ]
  },
  {
   "cell_type": "code",
   "execution_count": 116,
   "metadata": {},
   "outputs": [
    {
     "data": {
      "text/plain": [
       "torch.Size([100, 128])"
      ]
     },
     "execution_count": 116,
     "metadata": {},
     "output_type": "execute_result"
    }
   ],
   "source": [
    "import torchaudio\n",
    "import torch\n",
    "\n",
    "wavform, label = dataset[0]\n",
    "sr = 16000\n",
    "wavform = wavform - wavform.mean()\n",
    "fbank = torchaudio.compliance.kaldi.fbank(\n",
    "    wavform, htk_compat=True, sample_frequency=sr, use_energy=False,\n",
    "    window_type='hanning', num_mel_bins=128, dither=0.0, frame_shift=10\n",
    ")\n",
    "target_length = 100\n",
    "p = target_length - fbank.shape[0]\n",
    "if p > 0:\n",
    "    m = torch.nn.ZeroPad2d((0, 0, 0, p))\n",
    "    fbank = m(fbank)\n",
    "elif p < 0:\n",
    "    fbank = fbank[0:target_length, :]\n",
    "\n",
    "fbank.shape"
   ]
  },
  {
   "cell_type": "code",
   "execution_count": 117,
   "metadata": {},
   "outputs": [
    {
     "data": {
      "text/plain": [
       "torch.Size([1, 80, 97])"
      ]
     },
     "execution_count": 117,
     "metadata": {},
     "output_type": "execute_result"
    }
   ],
   "source": [
    "import torchaudio.transforms as a_transforms\n",
    "\n",
    "wavform = torch.ones(1, 16000)\n",
    "tsf = a_transforms.MelSpectrogram(sample_rate=sr, n_mels=80, n_fft=1024, win_length=400, hop_length=165, mel_scale='slaney')\n",
    "wavform = tsf(wavform)\n",
    "wavform.shape"
   ]
  },
  {
   "cell_type": "code",
   "execution_count": 118,
   "metadata": {},
   "outputs": [
    {
     "data": {
      "text/plain": [
       "torch.Size([1, 80, 970])"
      ]
     },
     "execution_count": 118,
     "metadata": {},
     "output_type": "execute_result"
    }
   ],
   "source": [
    "wavform = torch.ones(1, 160000)\n",
    "wavform = tsf(wavform)\n",
    "wavform.shape"
   ]
  }
 ],
 "metadata": {
  "kernelspec": {
   "display_name": "my-audio",
   "language": "python",
   "name": "python3"
  },
  "language_info": {
   "codemirror_mode": {
    "name": "ipython",
    "version": 3
   },
   "file_extension": ".py",
   "mimetype": "text/x-python",
   "name": "python",
   "nbconvert_exporter": "python",
   "pygments_lexer": "ipython3",
   "version": "3.9.21"
  }
 },
 "nbformat": 4,
 "nbformat_minor": 2
}
